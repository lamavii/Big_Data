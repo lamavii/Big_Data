{
  "nbformat": 4,
  "nbformat_minor": 0,
  "metadata": {
    "colab": {
      "provenance": []
    },
    "kernelspec": {
      "name": "python3",
      "display_name": "Python 3"
    },
    "language_info": {
      "name": "python"
    }
  },
  "cells": [
    {
      "cell_type": "markdown",
      "source": [
        "Задача 1. map( )\n",
        "\n",
        "У нас есть список чисел. Мы хотим получить новый список, в котором каждый элемент будет возводиться\n",
        "в квадрат. Ниже показано решение задача через цикл, решите задачу с помощью функции map:"
      ],
      "metadata": {
        "id": "auXMOyBZvJKt"
      }
    },
    {
      "cell_type": "code",
      "source": [
        "numbers = [1, 2, 3, 4, 5]\n",
        "new_numbers = []\n",
        "for num in numbers:\n",
        "  squared = num**2\n",
        "  new_numbers.append(squared)\n",
        "\n",
        "print(new_numbers)"
      ],
      "metadata": {
        "colab": {
          "base_uri": "https://localhost:8080/"
        },
        "id": "7YdLu6n6vKTS",
        "outputId": "d9bfbba1-b2cc-4094-87cc-f7f7c98dbe5e"
      },
      "execution_count": null,
      "outputs": [
        {
          "output_type": "stream",
          "name": "stdout",
          "text": [
            "[1, 4, 9, 16, 25]\n"
          ]
        }
      ]
    },
    {
      "cell_type": "code",
      "source": [
        "#Ваше решение\n",
        "numbers = [1, 2, 3, 4, 5]\n",
        "new_num=map(lambda x:x**2, numbers)\n",
        "list(new_num)"
      ],
      "metadata": {
        "id": "yyLIO4l5v5T0",
        "colab": {
          "base_uri": "https://localhost:8080/"
        },
        "outputId": "8bf78479-4bb1-4ba9-92a7-383fe22f6fed"
      },
      "execution_count": 2,
      "outputs": [
        {
          "output_type": "execute_result",
          "data": {
            "text/plain": [
              "[1, 4, 9, 16, 25]"
            ]
          },
          "metadata": {},
          "execution_count": 2
        }
      ]
    },
    {
      "cell_type": "markdown",
      "source": [
        "Задача 2. reduce( )\n",
        "\n",
        "У нас есть список чисел, и мы хотим получить их сумму.\n",
        "Ниже показано решение задача через цикл, решите задачу с помощью функции reduce:"
      ],
      "metadata": {
        "id": "jmEBB1dxv4Zz"
      }
    },
    {
      "cell_type": "code",
      "source": [
        "numbers = [1, 2, 3, 4, 5]\n",
        "result = 0\n",
        "for num in numbers:\n",
        "  result += num\n",
        "\n",
        "print(result)"
      ],
      "metadata": {
        "colab": {
          "base_uri": "https://localhost:8080/"
        },
        "id": "FzHo6ssdwXnE",
        "outputId": "c6361000-c7c8-4c37-c5e9-06f3fe488470"
      },
      "execution_count": null,
      "outputs": [
        {
          "output_type": "stream",
          "name": "stdout",
          "text": [
            "15\n"
          ]
        }
      ]
    },
    {
      "cell_type": "code",
      "source": [
        "# Ваше решение\n",
        "from functools import reduce\n",
        "items=[1,2,3,4,5]\n",
        "reduce(lambda x,y:x+y,items)\n"
      ],
      "metadata": {
        "id": "2x5J3FTTwwjr",
        "colab": {
          "base_uri": "https://localhost:8080/"
        },
        "outputId": "e922fa58-c4b7-4473-e47a-b46d83f6453d"
      },
      "execution_count": 3,
      "outputs": [
        {
          "output_type": "execute_result",
          "data": {
            "text/plain": [
              "15"
            ]
          },
          "metadata": {},
          "execution_count": 3
        }
      ]
    },
    {
      "cell_type": "markdown",
      "source": [
        "Задача 3. filter( )\n",
        "\n",
        "У нас есть список чисел и мы хотим получить только те, которые больше пяти. Ниже показано решение задача\n",
        "через цикл, решите задачу с помощью функции filter:"
      ],
      "metadata": {
        "id": "uQeD4Sjzwz_l"
      }
    },
    {
      "cell_type": "code",
      "source": [
        "numbers = [2, 7, 1, 8, 4, 5]\n",
        "result = []\n",
        "for num in numbers:\n",
        "  if num > 5:\n",
        "    result.append(num)\n",
        "\n",
        "print(result)"
      ],
      "metadata": {
        "colab": {
          "base_uri": "https://localhost:8080/"
        },
        "id": "C5HtYCYawzaq",
        "outputId": "93f1d757-085b-4e3e-970d-7f2e8c269dc2"
      },
      "execution_count": null,
      "outputs": [
        {
          "output_type": "stream",
          "name": "stdout",
          "text": [
            "[7, 8]\n"
          ]
        }
      ]
    },
    {
      "cell_type": "code",
      "source": [
        "# ваше решение\n",
        "print(list(filter(lambda x:x>5,numbers)))"
      ],
      "metadata": {
        "id": "XM8bB_uTxKaq",
        "colab": {
          "base_uri": "https://localhost:8080/"
        },
        "outputId": "7c27bbed-4d80-4fd9-fc25-2f20261d771b"
      },
      "execution_count": 6,
      "outputs": [
        {
          "output_type": "stream",
          "name": "stdout",
          "text": [
            "[7, 8]\n"
          ]
        }
      ]
    }
  ]
}